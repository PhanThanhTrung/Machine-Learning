{
 "cells": [
  {
   "cell_type": "code",
   "execution_count": 2,
   "metadata": {},
   "outputs": [],
   "source": [
    "import numpy as np\n",
    "import pandas as pd\n",
    "import matplotlib.pyplot as plt"
   ]
  },
  {
   "cell_type": "code",
   "execution_count": 3,
   "metadata": {},
   "outputs": [],
   "source": [
    "data= pd.read_csv('data.csv')"
   ]
  },
  {
   "cell_type": "code",
   "execution_count": 4,
   "metadata": {},
   "outputs": [],
   "source": [
    "X0=data.iloc[:,:1]\n",
    "X1=data.iloc[:,1:2]\n",
    "X2=data.iloc[:,2:3]\n",
    "Y =data.iloc[:,3:4]"
   ]
  },
  {
   "cell_type": "code",
   "execution_count": 5,
   "metadata": {},
   "outputs": [
    {
     "name": "stdout",
     "output_type": "stream",
     "text": [
      "[[ 73  80  75]\n",
      " [ 93  88  93]\n",
      " [ 89  91  90]\n",
      " [ 96  98 100]\n",
      " [ 73  66  70]\n",
      " [ 53  46  55]\n",
      " [ 69  74  77]\n",
      " [ 47  56  60]\n",
      " [ 87  79  90]\n",
      " [ 79  70  88]\n",
      " [ 69  70  73]\n",
      " [ 70  65  74]\n",
      " [ 93  95  91]\n",
      " [ 79  80  73]\n",
      " [ 70  73  78]\n",
      " [ 93  89  96]\n",
      " [ 78  75  68]\n",
      " [ 81  90  93]\n",
      " [ 88  92  86]\n",
      " [ 78  83  77]\n",
      " [ 82  86  90]\n",
      " [ 86  82  89]\n",
      " [ 78  83  85]\n",
      " [ 76  83  71]\n",
      " [ 96  93  95]]\n"
     ]
    },
    {
     "data": {
      "text/plain": [
       "array([[152],\n",
       "       [185],\n",
       "       [180],\n",
       "       [196],\n",
       "       [142],\n",
       "       [101],\n",
       "       [149],\n",
       "       [115],\n",
       "       [175],\n",
       "       [164],\n",
       "       [141],\n",
       "       [141],\n",
       "       [184],\n",
       "       [152],\n",
       "       [148],\n",
       "       [192],\n",
       "       [147],\n",
       "       [183],\n",
       "       [177],\n",
       "       [159],\n",
       "       [177],\n",
       "       [175],\n",
       "       [175],\n",
       "       [149],\n",
       "       [192]])"
      ]
     },
     "execution_count": 5,
     "metadata": {},
     "output_type": "execute_result"
    }
   ],
   "source": [
    "X=np.array(X0)\n",
    "X=np.concatenate((X,np.array(X1)),axis=1)\n",
    "X=np.concatenate((X,np.array(X2)),axis=1)\n",
    "print(X)\n",
    "Y=np.array(Y)\n",
    "Y"
   ]
  },
  {
   "cell_type": "code",
   "execution_count": 6,
   "metadata": {},
   "outputs": [
    {
     "ename": "TypeError",
     "evalue": "sum() takes no keyword arguments",
     "output_type": "error",
     "traceback": [
      "\u001b[0;31m---------------------------------------------------------------------------\u001b[0m",
      "\u001b[0;31mTypeError\u001b[0m                                 Traceback (most recent call last)",
      "\u001b[0;32m<ipython-input-6-b08c8604cd96>\u001b[0m in \u001b[0;36m<module>\u001b[0;34m\u001b[0m\n\u001b[1;32m      7\u001b[0m \u001b[0;34m\u001b[0m\u001b[0m\n\u001b[1;32m      8\u001b[0m \u001b[0;32mfor\u001b[0m \u001b[0mi\u001b[0m \u001b[0;32min\u001b[0m \u001b[0mrange\u001b[0m\u001b[0;34m(\u001b[0m\u001b[0mepoch\u001b[0m\u001b[0;34m)\u001b[0m\u001b[0;34m:\u001b[0m\u001b[0;34m\u001b[0m\u001b[0;34m\u001b[0m\u001b[0m\n\u001b[0;32m----> 9\u001b[0;31m     \u001b[0mY_predict\u001b[0m\u001b[0;34m=\u001b[0m\u001b[0msum\u001b[0m\u001b[0;34m(\u001b[0m\u001b[0mX\u001b[0m\u001b[0;34m*\u001b[0m\u001b[0mtheta\u001b[0m\u001b[0;34m,\u001b[0m\u001b[0maxis\u001b[0m\u001b[0;34m=\u001b[0m\u001b[0;36m1\u001b[0m\u001b[0;34m)\u001b[0m\u001b[0;34m\u001b[0m\u001b[0;34m\u001b[0m\u001b[0m\n\u001b[0m\u001b[1;32m     10\u001b[0m     \u001b[0;31m#y_predict=np.zeros(np.shape(Y))\u001b[0m\u001b[0;34m\u001b[0m\u001b[0;34m\u001b[0m\u001b[0;34m\u001b[0m\u001b[0m\n\u001b[1;32m     11\u001b[0m     \u001b[0;31m#for j in range(len(X)):\u001b[0m\u001b[0;34m\u001b[0m\u001b[0;34m\u001b[0m\u001b[0;34m\u001b[0m\u001b[0m\n",
      "\u001b[0;31mTypeError\u001b[0m: sum() takes no keyword arguments"
     ]
    }
   ],
   "source": [
    "m,n=np.shape(X)\n",
    "c=0\n",
    "theta=[0 for i in range(n)]\n",
    "lr=0.0001\n",
    "\n",
    "epoch=1000\n",
    "\n",
    "for i in range(epoch):\n",
    "    Y_predict=sum(X*theta,axis=1)\n",
    "    #y_predict=np.zeros(np.shape(Y))\n",
    "    #for j in range(len(X)):\n",
    "    #    value=X[j][0]*theta[0]+X[j][1]*theta[1]+X[j][2]*theta[2]\n",
    "    #    y_predict[j][0]=value\n",
    "    G_theta=[(-1/m)*sum(X[:,i-1:i]*(Y-y_predict)) for i in range(1,n+1)]\n",
    "    c1=(-1/m)*sum((Y-y_predict))\n",
    "    for j in range(len(theta)):\n",
    "        theta[j]=theta[j]-lr*G_theta[j]"
   ]
  },
  {
   "cell_type": "code",
   "execution_count": 26,
   "metadata": {},
   "outputs": [],
   "source": [
    "Y_predict=[]\n",
    "for i in X:\n",
    "    Y_predict.append(i[0]*theta[0]+i[1]*theta[1]+i[2]*theta[2]+c)"
   ]
  },
  {
   "cell_type": "code",
   "execution_count": 27,
   "metadata": {},
   "outputs": [
    {
     "data": {
      "text/plain": [
       "[array([152.87096813]),\n",
       " array([184.85707056]),\n",
       " array([181.47509196]),\n",
       " array([198.75112623]),\n",
       " array([140.34334282]),\n",
       " array([105.31103899]),\n",
       " array([150.10760202]),\n",
       " array([113.11533438]),\n",
       " array([174.37762821]),\n",
       " array([164.0698523]),\n",
       " array([143.81354057]),\n",
       " array([142.72238981]),\n",
       " array([186.37008832]),\n",
       " array([153.411701]),\n",
       " array([151.08758393]),\n",
       " array([188.54205032]),\n",
       " array([145.1020913]),\n",
       " array([180.58824237]),\n",
       " array([177.32791345]),\n",
       " array([158.74594641]),\n",
       " array([175.79194599]),\n",
       " array([174.43321263]),\n",
       " array([167.19180399]),\n",
       " array([151.52748747]),\n",
       " array([190.88354941])]"
      ]
     },
     "execution_count": 27,
     "metadata": {},
     "output_type": "execute_result"
    }
   ],
   "source": [
    "Y_predict"
   ]
  },
  {
   "cell_type": "code",
   "execution_count": null,
   "metadata": {},
   "outputs": [],
   "source": [
    "."
   ]
  }
 ],
 "metadata": {
  "kernelspec": {
   "display_name": "Python 3",
   "language": "python",
   "name": "python3"
  },
  "language_info": {
   "codemirror_mode": {
    "name": "ipython",
    "version": 3
   },
   "file_extension": ".py",
   "mimetype": "text/x-python",
   "name": "python",
   "nbconvert_exporter": "python",
   "pygments_lexer": "ipython3",
   "version": "3.6.7"
  }
 },
 "nbformat": 4,
 "nbformat_minor": 2
}
